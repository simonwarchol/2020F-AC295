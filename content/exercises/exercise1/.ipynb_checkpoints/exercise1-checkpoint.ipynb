{
 "cells": [
  {
   "cell_type": "markdown",
   "metadata": {},
   "source": [
    "# <img style=\"float: left; padding-right: 10px; width: 45px\" src=\"https://raw.githubusercontent.com/Harvard-IACS/2018-CS109A/master/content/styles/iacs.png\"> APCOMP 295 Advanced Practical Data Science\n",
    "## Homework 1 - Google Cloud Setup, Docker & Flask\n",
    "\n",
    "\n",
    "\n",
    "**Harvard University**<br/>\n",
    "**Fall 2020**<br/>\n",
    "**Instructors**: Pavlos Protopapas\n",
    "\n",
    "\n",
    "<hr style=\"height:2pt\">"
   ]
  },
  {
   "cell_type": "markdown",
   "metadata": {},
   "source": [
    "**Instructions**: \n",
    "\n",
    "- Each assignment is graded out of 5 points.  \n",
    "- Submit this homework individually at Canvas. \n",
    "\n",
    "<hr style=\"height:2pt\">\n"
   ]
  },
  {
   "cell_type": "markdown",
   "metadata": {},
   "source": [
    "\n",
    " We illustrated two very simple applications of containers during the demo in class and demonstrated them step by step. Now we should learn how to deploy a more complex application on the cloud. Real-world applications are often composed of many different components. Putting it altogether comprises many steps, which we walk you through below. It is not unusual that the tutorial instructions available on the internet, or in this case the assignment instructions, do not match exactly with what you will face - this is due to the quick development cycles of the libraries and user interfaces. Therefore, it is one of the learning objectives of this homework to learn how to become more comfortable with all the components, follow tutorials and how all connect together. You should use all resources available, including the class forum, or other forums and do not hesitate to ask the teaching staff. \n",
    "\n",
    "We will be using Google Cloud, and one of the goals of this assignment is to get you set up with Google Cloud. \n",
    " \n",
    "The final goal is to run your first Docker application with Flask on the cloud !\n",
    "\n",
    "\n",
    "###  <font color=red>Remember to delete your virtual machines/clusters.</font>"
   ]
  },
  {
   "cell_type": "markdown",
   "metadata": {},
   "source": [
    "## Question 1: Create Accounts at Cloud Services (0.5 point)\n",
    "\n",
    "If you have not already done so, create accounts at the following cloud services we will be using in the course:\n",
    "- GitHub: www.github.com\n",
    "- Google Cloud: https://cloud.google.com/\n",
    "    (new users may be offered \\$300 free trial - valid for 3 months -  See this for more  https://cloud.google.com/free/docs/gcp-free-tier ) \n",
    "- DockerHub: https://hub.docker.com/\n",
    "\n",
    "#### Submit:\n",
    "1. your username for GitHub and Google Cloud\n",
    "2. a screenshot of the “profile” page of your GitHub account and the Google Cloud console\n",
    "3. A screenshot of the  “Account settings” (top half) page of Docker Hub account. \n",
    "\n",
    "#### Example Submission:\n",
    "GitHub username = rashmigb\n",
    "\n",
    "![image.png](images/image1.png)"
   ]
  },
  {
   "cell_type": "markdown",
   "metadata": {},
   "source": [
    "Google username = rashmi.banthia@mail.analytics.hbs.edu  (Your screenshot may look different, if you are exising user)\n",
    "\n",
    "![image.png](images/image2.png)"
   ]
  },
  {
   "cell_type": "markdown",
   "metadata": {},
   "source": [
    "Docker Hub: \n",
    "\n",
    "![image.png](images/image3.png)"
   ]
  },
  {
   "cell_type": "markdown",
   "metadata": {},
   "source": [
    "# 1.2 Submission\n",
    "\n",
    "Github Username: simonwarchol\n",
    "![image.png](images/github.png)\n",
    "\n",
    "Google username = simonwarchol@g.harvard.edu\n",
    "![image.png](images/google_cloud.png)\n",
    "Dockerhub username = simonwarchol\n",
    "![image.png](images/dockerhub.png)\n"
   ]
  },
  {
   "cell_type": "markdown",
   "metadata": {},
   "source": [
    "## Question 2: Create project on Google Cloud and Install Google cloud sdk (1 point) \n",
    " \n",
    "1. Redeem your Google Cloud credit <font color=red> (You will need @g.harvard.edu email account, look for announcement on Ed before proceeding) </font>  \n",
    "(this should create a billing account “AC295 Advance Practical Data Science”) \n",
    "Every project on Google cloud must be associated with a billing account. \n",
    "\n",
    "2. Create a project on Google Cloud Console (top left -> “Select a project” -> New project  OR Dashboard -> Create Project) (if you are using .harvard you may select the .harvard organization).\n",
    "Project name: ac295-data-science\n",
    "\n",
    "3. We will be using gcloud command line. Please follow the instructions on this page to install https://cloud.google.com/sdk/docs/quickstarts .\n",
    "\n",
    "\n",
    "#### Submit: \n",
    "1. Screen shot of your new project\n",
    "2. output from `gcloud config list`.\n",
    "\n",
    "#### Example Submission:\n",
    "\n",
    "\n",
    "![image.png](images/image4.png)\n",
    "\n",
    "```\n",
    "(base) Rashmis-MBP-2:~ rashmi$ gcloud config list\n",
    "[compute]\n",
    "region = us-east1\n",
    "zone = us-east1-b\n",
    "[core]\n",
    "account = rjain29@gmail.com\n",
    "disable_usage_reporting = False\n",
    "project = ac295datascience\n",
    "\n",
    "Your active configuration is: [default]\n",
    "(base) Rashmis-MBP-2:~ rashmi$ \n",
    "```\n",
    "\n",
    "\n"
   ]
  },
  {
   "cell_type": "markdown",
   "metadata": {},
   "source": [
    "# 2.1 Submission\n",
    "![image.png](images/gcloud_project.png)\n",
    "![image.png](images/gcloud_list.png)\n"
   ]
  },
  {
   "cell_type": "markdown",
   "metadata": {},
   "source": [
    "## Question 3: Set up SSH Keys (0.5 points)\n",
    "\n",
    "Many tasks in deploying apps to the cloud are done at the command line.  SSH is an essential tool for secure use of command line interfaces to remote systems.  SSH is also more convenient than password authentication once you’ve set it up.\n",
    "If you have not already done so, create a default SSH key on your main computer.\n",
    "Configure GitHub so that you can access your repositories using SSH. \n",
    "\n",
    "You can follow this tutorial:\n",
    "https://docs.github.com/en/github/authenticating-to-github/adding-a-new-ssh-key-to-your-github-account .Try to clone one of your repositories at the command line using the SSH interface.\n",
    "\n",
    "\n",
    "#### Submit:\n",
    "1. a screenshot of your GitHub account showing at least one SSH key.\n",
    "2. a screenshot of a terminal where you clone any repo with the SSH.  \n",
    "\n",
    "Please note that it is always safe to share the public part of your SSH key as in submission 1, but you should **never** share a private RSA key with anyone!\n",
    "\n",
    "As an example of cloning by SSH, when I type:  ` git clone git@github.com:Harvard-IACS/2020F-AC295-private.git` this command works \"by magic\" on a computer that has one of the SSH keys I’ve configured on GitHub in the default key location `~/.ssh/id_rsa` (linux and Mac) or `C:\\Users\\<username>\\.ssh\\id_rsa` (Windows 10)\n",
    "\n",
    "\n",
    "\n",
    "#### Example Submission: \n",
    "\n",
    "![image.png](images/image5.png)\n"
   ]
  },
  {
   "cell_type": "markdown",
   "metadata": {},
   "source": [
    "\n",
    "![image.png](images/image6.png)"
   ]
  },
  {
   "cell_type": "markdown",
   "metadata": {},
   "source": [
    "# 3.1 Submission\n",
    "![image.png](images/ssh_keys.png)\n",
    "![image.png](images/git_clone.png)"
   ]
  },
  {
   "cell_type": "markdown",
   "metadata": {},
   "source": [
    "## Flask  \n",
    "\n",
    "Flask is a python based web framework. There are many others for e.g. Django, FastApi and next month will be more. We’ll stick to Flask in this course for many of the examples we will be doing. Though this class is not about teaching web developement, it is advisable to familiarize yourself with it.  In the next question we will be using a very simple flask app\n",
    "echo.py. We found the following video to be very instructive (aka a little long): \n",
    "\n",
    "Youtube  - https://youtu.be/Z1RJmh_OqeA  \n",
    "\n",
    "\n",
    "\n",
    "\n",
    "\n",
    "\n",
    "\n",
    "\n",
    "\n",
    "\n"
   ]
  },
  {
   "cell_type": "markdown",
   "metadata": {},
   "source": [
    "## Question 4: Your First Docker App on Google Cloud (2 points)"
   ]
  },
  {
   "cell_type": "markdown",
   "metadata": {},
   "source": [
    "We are going to create an echo service, which displays back what we send. We will do this on Google Cloud and also create a docker image on Google Cloud.\n",
    "\n",
    "Follow these steps (watch the demo video  https://youtu.be/aI6jTjwxWVI and replicate yourself):\n",
    "- Add a firewall rule  (the Compute Engine API must first be enabled before firewall rules can be created). If you do not see the firewall at the top of the pull down menu, look for \"Networking\".  \n",
    "- Create a Virtual Machine on google cloud.\n",
    "- Install pip3, pandas, flask. \n",
    "- Copy echo.py and Dockerfile from https://github.com/bgweber/StartupDataScience/tree/master/containers/echo to the VM\n",
    "- Install Docker =>  https://docs.docker.com/engine/install/debian/ \n",
    "- Create Dockerfile, Docker Image and run \n",
    "- **Must delete VM after you are done.** \n",
    "\n",
    "\n",
    "\n",
    "\n",
    "Submit (i) screenshot displaying a running VM on google cloud (ii) screenshot of the browser where echo service displays results (with url) (iii) screenshot of docker container running and docker images. (iv) log/notes of commands used. \n",
    "Also, don’t hesitate to post questions on the Ed class discussion board.  One of your classmates or the teaching staff can help.\n",
    "\n",
    "\n"
   ]
  },
  {
   "cell_type": "code",
   "execution_count": 1,
   "metadata": {},
   "outputs": [
    {
     "data": {
      "image/jpeg": "[encoded data removed]",
      "text/html": [
       "\n",
       "        <iframe\n",
       "            width=\"400\"\n",
       "            height=\"300\"\n",
       "            src=\"https://www.youtube.com/embed/aI6jTjwxWVI\"\n",
       "            frameborder=\"0\"\n",
       "            allowfullscreen\n",
       "        ></iframe>\n",
       "        "
      ],
      "text/plain": [
       "<IPython.lib.display.YouTubeVideo at 0x7f8c120b9790>"
      ]
     },
     "execution_count": 1,
     "metadata": {},
     "output_type": "execute_result"
    }
   ],
   "source": [
    "from IPython.display import YouTubeVideo\n",
    "YouTubeVideo('aI6jTjwxWVI') #https://youtu.be/aI6jTjwxWVI"
   ]
  },
  {
   "cell_type": "markdown",
   "metadata": {},
   "source": [
    "# 4.2 Submission\n",
    "![image.png](images/vm.png)\n",
    "![image.png](images/echo.png)\n",
    "![image.png](images/running_docker_image.png)\n",
    "\n"
   ]
  },
  {
   "cell_type": "markdown",
   "metadata": {},
   "source": [
    "## Question 5: Echo Translation  (1 point) "
   ]
  },
  {
   "cell_type": "markdown",
   "metadata": {},
   "source": [
    "Now we learn all the mechanics, lets create a similar system as in Question 4 but this time the system should display the input text translated to a language of your choice. \n",
    "\n",
    "**Submit:** Modified echo.py i.e. copy paste the code in a cell below (Please use cell -> Raw NBConvert)  and  (i) screenshot displaying a running VM on google cloud (ii) screenshot of the browser where echo service displays results (with url) (iii) screenshot of docker container running and docker images. (iv) log/notes of commands used.\n",
    "\n",
    " \n",
    "**Hints:** \n",
    "- Make sure you can display characters that are not ASCII. Try different languages. \n",
    "- Hint: `pip install googletrans` \n",
    "\n"
   ]
  },
  {
   "cell_type": "markdown",
   "metadata": {},
   "source": [
    "![image](images/image8.png)"
   ]
  },
  {
   "cell_type": "markdown",
   "metadata": {},
   "source": [
    "## 5.1 Submission\n",
    "![image.png](images/translation_cloud.png)\n",
    "![image.png](images/successful_translation.png)\n",
    "![image.png](images/translation.png)\n"
   ]
  },
  {
   "cell_type": "raw",
   "metadata": {},
   "source": [
    "# load Flask \n",
    "import flask\n",
    "from googletrans import Translator\n",
    "\n",
    "app = flask.Flask(__name__)\n",
    "\n",
    "\n",
    "# define a predict function as an endpoint \n",
    "@app.route(\"/predict\", methods=[\"GET\", \"POST\"])\n",
    "def predict():\n",
    "    data = {\"success\": False}\n",
    "\n",
    "    # get the request parameters\n",
    "    params = flask.request.json\n",
    "    if (params == None):\n",
    "        params = flask.request.args\n",
    "\n",
    "    # if parameters are found, echo the msg parameter \n",
    "    if (params != None):\n",
    "        translator = Translator()\n",
    "        data[\"language\"] = \"Spanish\"\n",
    "        data[\"response\"] = params.get(\"msg\")\n",
    "        # converting from english to spanish\n",
    "        translated_text = translator.translate(data[\"response\"], src='en', dest=\"es\")\n",
    "        data[\"translated_text\"] = translated_text.text\n",
    "        data[\"success\"] = True\n",
    "\n",
    "    # return a response in json format \n",
    "    return flask.jsonify(data)\n",
    "\n",
    "\n",
    "# This allows for unicode characters in the response\n",
    "app.config['JSON_AS_ASCII'] = False\n",
    "\n",
    "# start the flask app, allow remote connections\n",
    "app.run(host='0.0.0.0')\n"
   ]
  },
  {
   "cell_type": "markdown",
   "metadata": {},
   "source": [
    "\n",
    "###  <font color=red>Remember to delete your virtual machines/clusters.</font>"
   ]
  }
 ],
 "metadata": {
  "kernelspec": {
   "display_name": "Python (cs109b)",
   "language": "python",
   "name": "cs109b"
  },
  "language_info": {
   "codemirror_mode": {
    "name": "ipython",
    "version": 3
   },
   "file_extension": ".py",
   "mimetype": "text/x-python",
   "name": "python",
   "nbconvert_exporter": "python",
   "pygments_lexer": "ipython3",
   "version": "3.7.6"
  },
  "toc": {
   "base_numbering": 1,
   "nav_menu": {},
   "number_sections": true,
   "sideBar": true,
   "skip_h1_title": false,
   "title_cell": "Table of Contents",
   "title_sidebar": "Contents",
   "toc_cell": false,
   "toc_position": {},
   "toc_section_display": true,
   "toc_window_display": false
  },
  "varInspector": {
   "cols": {
    "lenName": 16,
    "lenType": 16,
    "lenVar": 40
   },
   "kernels_config": {
    "python": {
     "delete_cmd_postfix": "",
     "delete_cmd_prefix": "del ",
     "library": "var_list.py",
     "varRefreshCmd": "print(var_dic_list())"
    },
    "r": {
     "delete_cmd_postfix": ") ",
     "delete_cmd_prefix": "rm(",
     "library": "var_list.r",
     "varRefreshCmd": "cat(var_dic_list()) "
    }
   },
   "types_to_exclude": [
    "module",
    "function",
    "builtin_function_or_method",
    "instance",
    "_Feature"
   ],
   "window_display": false
  }
 },
 "nbformat": 4,
 "nbformat_minor": 4
}
